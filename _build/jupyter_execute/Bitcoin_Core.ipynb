{
 "cells": [
  {
   "cell_type": "markdown",
   "metadata": {},
   "source": [
    "# Installing Bictoin Core"
   ]
  },
  {
   "cell_type": "markdown",
   "metadata": {},
   "source": [
    "\n",
    "## Getting Bitcoin Core and connecting to the testnet\n",
    "\n",
    "\n",
    "\n",
    "\n",
    "**STEP 1**: DOWNLOAD BITCOIN CORE AT [https://bitcoin.org/en/download](https://bitcoin.org/en/download) AND FOLLOW THE INSTALLATION PROCEDURE.\n",
    "\n",
    "\n",
    "**STEP 2**: FIND THE BITCOIN CORE DATA DIRECTORY FOR YOUR SYSTEM. \n",
    "1. TO LOCATE IT IN WINDOWS, GO TO Start -> Run (OR PRESS WinKey+R), AND RUN THIS: %APPDATA%\\Bitcoin\n",
    "\n",
    "2. FOR MAC USERS, IT SHOULD BE IN ~/Library/Application Support/Bitcoin/\n",
    "\n",
    "\tIF NOT CHECK [https://medium.com/@silvestro.john/test-net-lightning-network-on-mac-os-for-dummies-9ca5b50db288](https://medium.com/@silvestro.john/test-net-lightning-network-on-mac-os-for-dummies-9ca5b50db288)\n",
    "\n",
    "\n",
    "**STEP 3**: CREATE A bitcoin.conf CONFIGURATION FILE WITH THE FOLLOWING CONTENT\n"
   ]
  },
  {
   "cell_type": "markdown",
   "metadata": {
    "vscode": {
     "languageId": "bat"
    }
   },
   "source": [
    "```python\n",
    "------------------------------------------------------------------------------\n",
    "##\n",
    "## bitcoin.conf configuration file. Lines beginning with # are comments.\n",
    "##\n",
    "\n",
    "\n",
    "# Network-related settings:\n",
    "\n",
    "\n",
    "# Run on the test network instead of the real bitcoin network.\n",
    "testnet=1\n",
    "-------------------------------------------------------------------------------"
   ]
  },
  {
   "cell_type": "markdown",
   "metadata": {},
   "source": [
    "\n",
    "**STEP 4**: PUT THE bitcoin.conf FILE IN THE BITCOIN CORE DATA DIRECTORY LOCATED IN STEP 2.\n",
    "\n",
    "\n",
    "**STEP 5**: LAUNCH BITCOIN CORE. THE ICON IN THE TASKBAR SHOULD BE GREEN. \n",
    "\n",
    "\n",
    "1. IF THE ICON IS ORANGE YOU ARE CONNECTED TO THE MAIN BITCOIN BLOCKCHAIN. THEN STOP BITCOIN CORE AND VERIFY THAT YOU HAVE CORRECTLY DONE THE STEPS ABOVE.\n",
    "\t\n",
    "2. IF THE ICON IS GREEN, LET BITCOIN CORE DOWNLOAD THE TESTNET BLOCKCHAIN. IT WILL TAKE A WHILE, IT CAN TAKE UP TO A FULL DAY DEPENDING ON THE SPEED OF YOUR CONNECTION.\n",
    "\n",
    "\n",
    "**STEP 6**: ONCE THE TESTNET BLOCKCHAIN HAS BEEN DOWNLOADED, FIND YOUR RECEIVING ADDRESS (PUBLIC KEY).\n",
    "\n",
    "THEN GO TO FAUCET WEBSITE [https://coinfaucet.eu/en/btc-testnet/](https://coinfaucet.eu/en/btc-testnet/) AND ASK FOR A COUPLE OF BITCOINS TO BE SENT TO YOUR TESTNET ADDRESS. \n",
    "\n",
    "LOOK INTO YOUR WALLET TO VERIFY THAT THE BITCOINS HAVE ARRIVED.\n",
    "\n",
    "\n",
    "ADDITIONAL SOURCE EXPLAINING THE INSTALLATION PROCEDURE: \n",
    "https://www.suffix.be/blog/getting-started-bitcoin-testnet"
   ]
  },
  {
   "cell_type": "markdown",
   "metadata": {},
   "source": [
    "## Getting Electrum wallet and connecting it to the testnet"
   ]
  },
  {
   "cell_type": "markdown",
   "metadata": {},
   "source": [
    "[https://electrum.org/#home](https://electrum.org/#home)\n",
    "\n",
    "\n",
    "[https://bitcoin.stackexchange.com/questions/76598/how-to-get-electrum-3-1-3-on-bitcoin-testnet](https://bitcoin.stackexchange.com/questions/76598/how-to-get-electrum-3-1-3-on-bitcoin-testnet)"
   ]
  }
 ],
 "metadata": {
  "language_info": {
   "codemirror_mode": {
    "name": "ipython",
    "version": 3
   },
   "file_extension": ".py",
   "mimetype": "text/x-python",
   "name": "python",
   "nbconvert_exporter": "python",
   "pygments_lexer": "ipython3",
   "version": "3.10.14"
  }
 },
 "nbformat": 4,
 "nbformat_minor": 2
}